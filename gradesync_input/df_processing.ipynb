{
 "cells": [
  {
   "cell_type": "markdown",
   "metadata": {},
   "source": [
    "# Dataframe Processing"
   ]
  },
  {
   "cell_type": "code",
   "execution_count": 58,
   "metadata": {
    "trusted": true
   },
   "outputs": [],
   "source": [
    "# Get the data from the sample_data folder\n",
    "import os\n",
    "import pandas as pd"
   ]
  },
  {
   "cell_type": "code",
   "execution_count": 59,
   "metadata": {
    "trusted": true
   },
   "outputs": [
    {
     "name": "stdout",
     "output_type": "stream",
     "text": [
      "['gradesync_sheets_to_df.ipynb', 'message_requests.csv', '.DS_Store', 'message_requests_CS10_Sp25_GradeScope Grades - Proj_1_Worldle.csv', 'config', 'sample_data', '.gitignore', 'df_processing.ipynb']\n"
     ]
    }
   ],
   "source": [
    "files_in_current_directory = os.listdir('.')\n",
    "print(files_in_current_directory)"
   ]
  },
  {
   "cell_type": "code",
   "execution_count": 60,
   "metadata": {
    "trusted": true
   },
   "outputs": [],
   "source": [
    "# Read the data from the sample_data folder and convert to a dataframe\n",
    "def get_data(file_name):\n",
    "    # Get the path to the sample_data folder\n",
    "    sample_data_folder = 'sample_data/'\n",
    "    file_path = os.path.join(sample_data_folder, file_name)\n",
    "\n",
    "    # Read the data from the CSV file\n",
    "    df = pd.read_csv(file_path)\n",
    "\n",
    "    return df"
   ]
  },
  {
   "cell_type": "markdown",
   "metadata": {},
   "source": [
    "## 1. Open the files and do pre-processing"
   ]
  },
  {
   "cell_type": "code",
   "execution_count": 75,
   "metadata": {
    "trusted": true
   },
   "outputs": [],
   "source": [
    "def df_to_message_requests_df(project3_df, input_file_name):\n",
    "    # Sort project3_df to contain only the 'SID', 'Status', 'Submission Time', 'Lateness (H:M:S)' columns\n",
    "    project3_filtered_df = project3_df[[\"b'First Name\", 'Last Name', 'SID', 'Email', 'Status', 'Submission Time', 'Lateness (H:M:S)']]\n",
    "    \n",
    "    # Add a new column which labeles this data as 'Proj 3: 2048'\n",
    "    project3_filtered_df = project3_filtered_df.copy()\n",
    "    project3_filtered_df['Project'] = 'Proj 3: 2048'\n",
    "    \n",
    "    # Reorder the columns to have 'Project' as the first column\n",
    "    project3_filtered_df = project3_filtered_df[['Project', \"b'First Name\", 'Last Name', 'SID', 'Email', 'Status', 'Submission Time', 'Lateness (H:M:S)']]\n",
    "    \n",
    "    # Get the data from deadlines.csv\n",
    "    deadlines_df = get_data('deadlines.csv')\n",
    "    \n",
    "    # Get the data from notification_frequency.csv\n",
    "    notification_frequency_df = get_data('notification_frequency.csv')\n",
    "    \n",
    "    # Iterate through the project3_filtered_df, and for each row, add on the due date based on joining the project3_filtered_df and the deadlines_df\n",
    "    def get_due_date(row):\n",
    "        # Get the project name from the row\n",
    "        project_name = row['Project']\n",
    "    \n",
    "        # Get the due date from the deadlines_df\n",
    "        due_date = deadlines_df.loc[deadlines_df['project'] == project_name, 'due'].values[0]\n",
    "    \n",
    "        return due_date\n",
    "    \n",
    "    project3_filtered_df['Due Date'] = project3_filtered_df.apply(get_due_date, axis=1)\n",
    "    \n",
    "    # Import datetime to compare the difference in times\n",
    "    import datetime\n",
    "    \n",
    "    # Convert the 'Submission Time' and 'Due Date' columns to datetime objects\n",
    "    #project3_filtered_df['Submission Time'] = pd.to_datetime(project3_filtered_df['Submission Time'], format='%Y-%m-%d %H:%M:%S')\n",
    "    #project3_filtered_df['Due Date'] = pd.to_datetime(project3_filtered_df['Due Date'], format='%Y-%m-%d %H:%M:%S')\n",
    "    \n",
    "    project3_filtered_df['Submission Time'] = pd.to_datetime(project3_filtered_df['Submission Time'], errors='coerce', utc=True)\n",
    "    project3_filtered_df['Due Date'] = pd.to_datetime(project3_filtered_df['Due Date'], errors='coerce')\n",
    "    \n",
    "    \n",
    "    # Get the type of the 'SID' column in project3_filtered_df\n",
    "    sid_type = project3_filtered_df['SID'].dtype\n",
    "    \n",
    "    notification_frequency_df.rename(columns={'sid': 'SID'}, inplace=True)\n",
    "    \n",
    "    # Convert the SID column in notification_frequency_df to an object\n",
    "    notification_frequency_df = notification_frequency_df.astype({'SID': 'object'})\n",
    "    \n",
    "    # Get the type of the 'SID' column in project3_filtered_df\n",
    "    sid_type = notification_frequency_df['SID'].dtype\n",
    "    \n",
    "    # Get the difference between SID in the two dataframes\n",
    "    def get_sid_difference(df1, df2):\n",
    "        # Get the SIDs from both dataframes\n",
    "        df1_sids = set(df1['SID'])\n",
    "        df2_sids = set(df2['SID'])\n",
    "    \n",
    "        # Get the difference between the two sets\n",
    "        sid_difference = df1_sids - df2_sids\n",
    "    \n",
    "        return sid_difference\n",
    "    \n",
    "    sid_difference = get_sid_difference(project3_filtered_df, notification_frequency_df)\n",
    "    \n",
    "    ## 2. Merge the Dataframes\n",
    "    \n",
    "    # Merge the project3_filtered_df and notification_frequency_df on the 'SID' column\n",
    "    merged_df = pd.merge(project3_filtered_df, notification_frequency_df, on='SID', how='left')\n",
    "    \n",
    "    # # Convert the notification frequency to timedelta object in notification_frequency_df\n",
    "    \n",
    "    # def convert_to_timedelta(row):\n",
    "    #     # Get the notification frequency from the row\n",
    "    #     notification_frequency = row['notification_frequency']\n",
    "    \n",
    "    #     # Check if the notification_frequency is already a timedelta object\n",
    "    #     if isinstance(notification_frequency, pd.Timedelta):\n",
    "    #         return notification_frequency\n",
    "    \n",
    "    #     # Extract the number and unit\n",
    "    #     num, unit = notification_frequency.split()\n",
    "    \n",
    "    #     # Convert to timedelta\n",
    "    #     if unit.startswith('day'):\n",
    "    #         delta = datetime.timedelta(days=int(num))\n",
    "    #     elif unit.startswith('hour'):\n",
    "    #         delta = datetime.timedelta(hours=int(num))\n",
    "    #     elif unit.startswith('minute'):\n",
    "    #         delta = datetime.timedelta(minutes=int(num))\n",
    "    #     else:\n",
    "    #         raise ValueError(\"Unsupported time unit.\")\n",
    "    #     return delta \n",
    "        \n",
    "    # merged_df['notification_frequency'] = merged_df.apply(convert_to_timedelta, axis=1)\n",
    "    # merged_df\n",
    "    \n",
    "    # Make the column notification_frequency in merged_df a timedelta object where it is random number from 3-7 days in length\n",
    "    \n",
    "    import random\n",
    "    \n",
    "    def random_timedelta():\n",
    "        # Generate a random number of days between 3 and 7\n",
    "        num_days = random.randint(3, 7)\n",
    "        return pd.Timedelta(days=num_days)\n",
    "    merged_df['notification_frequency'] = merged_df['notification_frequency'].apply(lambda x: random_timedelta())\n",
    "    \n",
    "    \n",
    "    # Get the current date, for example let's say today's date is 3-17-25 minus 3 days which is 3-14-25.\n",
    "    # This will help with the example above\n",
    "    \n",
    "    today_date = datetime.datetime(2025, 3, 12, 0, 0, 0)\n",
    "    \n",
    "    # Get the difference between the due date and the current date\n",
    "    def get_date_difference(row):\n",
    "        # Get the due date from the row\n",
    "        due_date = row['Due Date']\n",
    "    \n",
    "        # Get the difference between the due date and the current date\n",
    "        date_difference = due_date - today_date\n",
    "    \n",
    "        return date_difference\n",
    "    \n",
    "    merged_df['Date Difference'] = merged_df.apply(get_date_difference, axis=1)\n",
    "    \n",
    "    # Get the type of the notification_frequency column in merged_df\n",
    "    notification_frequency_type = merged_df['notification_frequency'].dtype\n",
    "    \n",
    "    # Get the type of the Date Difference column in merged_df\n",
    "    date_difference_type = merged_df['Date Difference'].dtype\n",
    "    \n",
    "    merged_df['is_equal'] = merged_df['notification_frequency'].dt.days == merged_df['Date Difference'].dt.days\n",
    "    \n",
    "    \n",
    "    ## 3. Create missing_students dataframe\n",
    "    \n",
    "    \"\"\"\n",
    "    What will the code do:\t\t\t\n",
    "    1. Iterate through every single row in this table\t\t\t\n",
    "    2. Student SID has not submitted assignment, status = 'missing' from student_data_one_assignment AND today_date == due_date - notification_freq\t\t\t\n",
    "    3. Append that student, row, assignment to the message_requests temporary dataframe\t\t\t\n",
    "    4. Continue iterating through every single one\t\t\t\n",
    "    \"\"\"\n",
    "    \n",
    "    # See which rows where row['Status'] == 'missing' and row['is_equal'] == True:\n",
    "    missing_students = merged_df[(merged_df['Status'] == 'Missing') & (merged_df['is_equal'] == True)]\n",
    "    \n",
    "    \n",
    "    ## Generate the Message Requests\n",
    "    \n",
    "    # Now create a message_requests column in the merged_df dataframe with the f_string message\n",
    "    def create_message(row):\n",
    "        # Get the SID from the row\n",
    "        sid = row['SID']\n",
    "    \n",
    "        # Get the project name from the row\n",
    "        project_name = row['Project']\n",
    "    \n",
    "        notification_frequency = row['notification_frequency']\n",
    "    \n",
    "        first_name = row[\"b'First Name\"]\n",
    "        last_name = row['Last Name']\n",
    "    \n",
    "        # Create the message\n",
    "        message = f\"Dear {first_name}, your {project_name} assignment is missing and it is due in {notification_frequency}. Please submit it as soon as possible.\"\n",
    "    \n",
    "        return message\n",
    "    \n",
    "    # Create the message_requests column in the merged_df dataframe\n",
    "    missing_students = missing_students.copy()\n",
    "    missing_students['message_requests'] = missing_students.apply(create_message, axis=1)\n",
    "    \n",
    "    # Get the list of message requests\n",
    "    message_requests = missing_students['message_requests'].tolist()\n",
    "    \n",
    "    # This is the output which should go into the message_requests.csv file\n",
    "    \n",
    "    # Create a new dataframe with the message requests\n",
    "    message_requests_df = missing_students[['SID', 'Email', 'message_requests']].copy()\n",
    "    \n",
    "    # Save the message requests to a CSV file\n",
    "    csv_file_name = \"message_requests_\" + input_file_name\n",
    "\n",
    "    # Put the message_requests_df to csv in the message_requests folder\n",
    "    message_requests_df.to_csv(csv_file_name, index=False)\n",
    "\n",
    "    return message_requests_df"
   ]
  },
  {
   "cell_type": "code",
   "execution_count": 76,
   "metadata": {
    "trusted": true
   },
   "outputs": [
    {
     "data": {
      "text/plain": [
       "['Proj_1_Worldle',\n",
       " 'Proj_2_Spelling_Bee',\n",
       " 'Proj_3_2048',\n",
       " 'Proj_4_Tech_in_Context',\n",
       " 'Proj_6_Final_Project_Proposals']"
      ]
     },
     "execution_count": 76,
     "metadata": {},
     "output_type": "execute_result"
    }
   ],
   "source": [
    "deadlines_df = pd.read_csv('sample_data/deadlines.csv')\n",
    "project_list = deadlines_df[\"project\"].iloc[1:].str.replace(\":\", \"\", regex=False).str.replace(\" \", \"_\").tolist()\n",
    "project_list"
   ]
  },
  {
   "cell_type": "code",
   "execution_count": 77,
   "metadata": {
    "trusted": true
   },
   "outputs": [
    {
     "data": {
      "text/plain": [
       "['CS10_Sp25_GradeScope Grades - Proj_1_Worldle.csv',\n",
       " 'CS10_Sp25_GradeScope Grades - Proj_2_Spelling_Bee.csv',\n",
       " 'CS10_Sp25_GradeScope Grades - Proj_3_2048.csv',\n",
       " 'CS10_Sp25_GradeScope Grades - Proj_4_Tech_in_Context.csv',\n",
       " 'CS10_Sp25_GradeScope Grades - Proj_6_Final_Project_Proposals.csv']"
      ]
     },
     "execution_count": 77,
     "metadata": {},
     "output_type": "execute_result"
    }
   ],
   "source": [
    "files_list = []\n",
    "for i in project_list:\n",
    "    string = \"CS10_Sp25_GradeScope Grades - \" + i + \".csv\"\n",
    "    files_list.append(string)\n",
    "\n",
    "projectans_df = get_data('CS10_Sp25_GradeScope Grades - Project 3_2048.csv')\n",
    "files_list"
   ]
  },
  {
   "cell_type": "code",
   "execution_count": 78,
   "metadata": {},
   "outputs": [
    {
     "data": {
      "text/plain": [
       "['CS10_Sp25_GradeScope Grades - Project 3_2048.csv',\n",
       " 'CS10_Sp25_GradeScope Grades - Project 2_ Spelling Bee.csv',\n",
       " 'CS10_Sp25_GradeScope Grades - Project 4_ Artifact + Documentation.csv',\n",
       " 'CS10_Sp25_GradeScope Grades - Project 1_ Wordlexe2x84xa2-lite.csv']"
      ]
     },
     "execution_count": 78,
     "metadata": {},
     "output_type": "execute_result"
    }
   ],
   "source": [
    "# Loop through the sample_data and get the files which start with CS10_Sp25_GradeScope Grades\n",
    "files_list = []\n",
    "for file in os.listdir('sample_data/'):\n",
    "    if file.startswith(\"CS10_Sp25_GradeScope Grades -\") and file.endswith(\".csv\"):\n",
    "        files_list.append(file)\n",
    "files_list "
   ]
  },
  {
   "cell_type": "code",
   "execution_count": 79,
   "metadata": {
    "trusted": true
   },
   "outputs": [],
   "source": [
    "for j in files_list:\n",
    "    project_data = get_data(j)\n",
    "    message_requests_df = df_to_message_requests_df(project_data, j)\n",
    "    "
   ]
  },
  {
   "cell_type": "code",
   "execution_count": null,
   "metadata": {},
   "outputs": [
    {
     "data": {
      "text/html": [
       "<div>\n",
       "<style scoped>\n",
       "    .dataframe tbody tr th:only-of-type {\n",
       "        vertical-align: middle;\n",
       "    }\n",
       "\n",
       "    .dataframe tbody tr th {\n",
       "        vertical-align: top;\n",
       "    }\n",
       "\n",
       "    .dataframe thead th {\n",
       "        text-align: right;\n",
       "    }\n",
       "</style>\n",
       "<table border=\"1\" class=\"dataframe\">\n",
       "  <thead>\n",
       "    <tr style=\"text-align: right;\">\n",
       "      <th></th>\n",
       "      <th>SID</th>\n",
       "      <th>Email</th>\n",
       "      <th>message_requests</th>\n",
       "    </tr>\n",
       "  </thead>\n",
       "  <tbody>\n",
       "    <tr>\n",
       "      <th>42</th>\n",
       "      <td>3037338261</td>\n",
       "      <td>tilemalatu@berkeley.edu</td>\n",
       "      <td>Dear Tilema, your Proj 3: 2048 assignment is m...</td>\n",
       "    </tr>\n",
       "    <tr>\n",
       "      <th>47</th>\n",
       "      <td>NaN</td>\n",
       "      <td>keon@berkeley.edu</td>\n",
       "      <td>Dear Keon, your Proj 3: 2048 assignment is mis...</td>\n",
       "    </tr>\n",
       "    <tr>\n",
       "      <th>49</th>\n",
       "      <td>3038359521</td>\n",
       "      <td>hsong423@berkeley.edu</td>\n",
       "      <td>Dear Hyun Woo, your Proj 3: 2048 assignment is...</td>\n",
       "    </tr>\n",
       "    <tr>\n",
       "      <th>52</th>\n",
       "      <td>3033723307</td>\n",
       "      <td>eddhou@berkeley.edu</td>\n",
       "      <td>Dear Edward, your Proj 3: 2048 assignment is m...</td>\n",
       "    </tr>\n",
       "    <tr>\n",
       "      <th>58</th>\n",
       "      <td>3040583471</td>\n",
       "      <td>gennalynmayberkeley@berkeley.edu</td>\n",
       "      <td>Dear Gennalyn, your Proj 3: 2048 assignment is...</td>\n",
       "    </tr>\n",
       "    <tr>\n",
       "      <th>60</th>\n",
       "      <td>3040937812</td>\n",
       "      <td>keson@berkeley.edu</td>\n",
       "      <td>Dear Kaixing, your Proj 3: 2048 assignment is ...</td>\n",
       "    </tr>\n",
       "    <tr>\n",
       "      <th>63</th>\n",
       "      <td>3040705060</td>\n",
       "      <td>felipe.ruiztagle@berkeley.edu</td>\n",
       "      <td>Dear Felipe, your Proj 3: 2048 assignment is m...</td>\n",
       "    </tr>\n",
       "  </tbody>\n",
       "</table>\n",
       "</div>"
      ],
      "text/plain": [
       "           SID                             Email  \\\n",
       "42  3037338261           tilemalatu@berkeley.edu   \n",
       "47         NaN                 keon@berkeley.edu   \n",
       "49  3038359521             hsong423@berkeley.edu   \n",
       "52  3033723307               eddhou@berkeley.edu   \n",
       "58  3040583471  gennalynmayberkeley@berkeley.edu   \n",
       "60  3040937812                keson@berkeley.edu   \n",
       "63  3040705060     felipe.ruiztagle@berkeley.edu   \n",
       "\n",
       "                                     message_requests  \n",
       "42  Dear Tilema, your Proj 3: 2048 assignment is m...  \n",
       "47  Dear Keon, your Proj 3: 2048 assignment is mis...  \n",
       "49  Dear Hyun Woo, your Proj 3: 2048 assignment is...  \n",
       "52  Dear Edward, your Proj 3: 2048 assignment is m...  \n",
       "58  Dear Gennalyn, your Proj 3: 2048 assignment is...  \n",
       "60  Dear Kaixing, your Proj 3: 2048 assignment is ...  \n",
       "63  Dear Felipe, your Proj 3: 2048 assignment is m...  "
      ]
     },
     "execution_count": 66,
     "metadata": {},
     "output_type": "execute_result"
    }
   ],
   "source": [
    "# Get the project 3\n",
    "project_3_df = get_data('CS10_Sp25_GradeScope Grades - Project 3_2048.csv')\n",
    "df_to_message_requests_df(project_3_df, j)"
   ]
  }
 ],
 "metadata": {
  "kernelspec": {
   "display_name": "base",
   "language": "python",
   "name": "python3"
  },
  "language_info": {
   "codemirror_mode": {
    "name": "ipython",
    "version": 3
   },
   "file_extension": ".py",
   "mimetype": "text/x-python",
   "name": "python",
   "nbconvert_exporter": "python",
   "pygments_lexer": "ipython3",
   "version": "3.7.4"
  }
 },
 "nbformat": 4,
 "nbformat_minor": 4
}

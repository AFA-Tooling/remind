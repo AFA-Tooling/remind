{
 "cells": [
  {
   "cell_type": "markdown",
   "metadata": {},
   "source": [
    "Now, let's assume we have the google sheet."
   ]
  },
  {
   "cell_type": "markdown",
   "metadata": {},
   "source": [
    "## Parse Google Sheet"
   ]
  },
  {
   "cell_type": "code",
   "execution_count": null,
   "metadata": {},
   "outputs": [],
   "source": [
    "# Iterate through all the tabs of the google sheet\n",
    "# Get the data from each tab\n",
    "# Get the student data"
   ]
  },
  {
   "cell_type": "code",
   "execution_count": null,
   "metadata": {},
   "outputs": [],
   "source": [
    "# Let's start with one tab: Lecture Quiz 4: Iteration\n",
    "# This is the tab name\n",
    "tab_name = 'Lecture Quiz 4: Iteration'\n",
    "\n",
    "\n",
    "# Get the data from the google sheet\n",
    "def get_google_sheet_data(sheet_id, range_name, credentials):\n",
    "    \"\"\"\n",
    "    Get data from a google sheet\n",
    "    \"\"\"\n",
    "    try:\n",
    "        service = build('sheets', 'v4', credentials=credentials)\n",
    "        sheet = service.spreadsheets()\n",
    "        result = sheet.values().get(spreadsheetId=sheet_id, range=range_name).execute()\n",
    "        values = result.get('values', [])\n",
    "        return values\n",
    "    except Exception as e:\n",
    "        logging.error(f\"Error getting data from google sheet: {e}\")\n",
    "        sys.exit(1)"
   ]
  },
  {
   "cell_type": "code",
   "execution_count": null,
   "metadata": {},
   "outputs": [],
   "source": [
    "# Convert the output data from the google sheet to a pandas dataframe\n",
    "def convert_to_dataframe(data):\n",
    "    \"\"\"\n",
    "    Convert data to a pandas dataframe\n",
    "    \"\"\"\n",
    "    try:\n",
    "        df = pd.DataFrame(data[1:], columns=data[0])\n",
    "        return df\n",
    "    except Exception as e:\n",
    "        logging.error(f\"Error converting data to dataframe: {e}\")\n",
    "        sys.exit(1)\n"
   ]
  },
  {
   "cell_type": "markdown",
   "metadata": {},
   "source": [
    "Now, you have a dataframe to work with"
   ]
  },
  {
   "cell_type": "markdown",
   "metadata": {},
   "source": [
    "# GradeSync Sheets Parsing"
   ]
  },
  {
   "cell_type": "code",
   "execution_count": null,
   "metadata": {},
   "outputs": [],
   "source": [
    "import pandas as pd\n",
    "import numpy as np\n",
    "import os\n",
    "import sys\n",
    "import argparse\n",
    "import logging\n",
    "import json\n",
    "\n",
    "# Import google sheets API \n",
    "from googleapiclient.discovery import build\n",
    "from google.oauth2 import service_account\n",
    "from google.auth.transport.requests import Request\n",
    "from google.auth.exceptions import RefreshError"
   ]
  },
  {
   "cell_type": "markdown",
   "metadata": {},
   "source": [
    "Use the google sheets API to read and write data from a google sheet."
   ]
  },
  {
   "cell_type": "code",
   "execution_count": null,
   "metadata": {},
   "outputs": [],
   "source": [
    "# Get the credentials from the .env file for google authentication\n",
    "def get_credentials():\n",
    "    \"\"\"\n",
    "    Get credentials from the .env file\n",
    "    \"\"\"\n",
    "    try:\n",
    "        creds = service_account.Credentials.from_service_account_file(\n",
    "            google_sheet_credentials,\n",
    "            scopes=['https://www.googleapis.com/auth/spreadsheets.readonly']\n",
    "        )\n",
    "        return creds\n",
    "    except Exception as e:\n",
    "        logging.error(f\"Error getting credentials: {e}\")\n",
    "        sys.exit(1)"
   ]
  },
  {
   "cell_type": "code",
   "execution_count": null,
   "metadata": {},
   "outputs": [],
   "source": [
    "# https://docs.google.com/spreadsheets/d/1HGd-7No73YLCHGGB29SrxEJnZ_5SO5oMPY4842d4IAY/edit?gid=0#gid=0\n",
    "# This is the google sheet to use\n",
    "\n",
    "google_sheet_id = '1HGd-7No73YLCHGGB29SrxEJnZ_5SO5oMPY4842d4IAY'\n",
    "google_sheet_range = 'A1:Z1000'\n",
    "google_sheet_credentials = 'credentials.json'"
   ]
  },
  {
   "cell_type": "code",
   "execution_count": null,
   "metadata": {},
   "outputs": [],
   "source": [
    "# Get the spreadsheet ID from the config folder\n",
    "config_folder = os.path.join(os.path.dirname(__file__), 'config')\n",
    "if not os.path.exists(config_folder):\n",
    "    os.makedirs(config_folder)\n",
    "credentials_path = os.path.join(config_folder, google_sheet_credentials)\n",
    "if not os.path.exists(credentials_path):\n",
    "    logging.error(f\"Credentials file not found: {credentials_path}\")\n",
    "    sys.exit(1)"
   ]
  },
  {
   "cell_type": "code",
   "execution_count": null,
   "metadata": {},
   "outputs": [],
   "source": [
    "# Use the google sheets API \n",
    "# to read and write data from a google sheet\n",
    "\n",
    "# Take the input ID from the google sheets\n",
    "def get_google_sheet(sheet_id, range_name, credentials):\n",
    "    \"\"\"\n",
    "    Get data from a google sheet\n",
    "    \"\"\"\n",
    "    try:\n",
    "        service = build('sheets', 'v4', credentials=credentials)\n",
    "        sheet = service.spreadsheets()\n",
    "        result = sheet.values().get(spreadsheetId=sheet_id, range=range_name).execute()\n",
    "        values = result.get('values', [])\n",
    "        return values\n",
    "    except Exception as e:\n",
    "        logging.error(f\"Error getting data from google sheet: {e}\")\n",
    "        sys.exit(1)"
   ]
  },
  {
   "cell_type": "markdown",
   "metadata": {},
   "source": []
  },
  {
   "cell_type": "code",
   "execution_count": null,
   "metadata": {},
   "outputs": [],
   "source": []
  }
 ],
 "metadata": {
  "kernelspec": {
   "display_name": "Python 3",
   "language": "python",
   "name": "python3"
  },
  "language_info": {
   "name": "python",
   "version": "3.12.7"
  }
 },
 "nbformat": 4,
 "nbformat_minor": 2
}

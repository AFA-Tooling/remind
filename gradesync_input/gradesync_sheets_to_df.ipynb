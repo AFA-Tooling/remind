{
 "cells": [
  {
   "cell_type": "markdown",
   "metadata": {},
   "source": [
    "Now, let's assume we have the google sheet."
   ]
  },
  {
   "cell_type": "markdown",
   "metadata": {},
   "source": [
    "## Parse Google Sheet"
   ]
  },
  {
   "cell_type": "code",
   "execution_count": 56,
   "metadata": {},
   "outputs": [],
   "source": [
    "# Iterate through all the tabs of the google sheet\n",
    "# Get the data from each tab\n",
    "# Get the student data"
   ]
  },
  {
   "cell_type": "code",
   "execution_count": 57,
   "metadata": {},
   "outputs": [],
   "source": [
    "# Let's start with one tab: Lecture Quiz 4: Iteration\n",
    "# This is the tab name\n",
    "tab_name = 'Lecture Quiz 4: Iteration'\n",
    "\n",
    "\n",
    "# Get the data from the google sheet\n",
    "def get_google_sheet_data(sheet_id, range_name, credentials):\n",
    "    \"\"\"\n",
    "    Get data from a google sheet\n",
    "    \"\"\"\n",
    "    try:\n",
    "        service = build('sheets', 'v4', credentials=credentials)\n",
    "        sheet = service.spreadsheets()\n",
    "        result = sheet.values().get(spreadsheetId=sheet_id, range=range_name).execute()\n",
    "        values = result.get('values', [])\n",
    "        return values\n",
    "    except Exception as e:\n",
    "        logging.error(f\"Error getting data from google sheet: {e}\")\n",
    "        sys.exit(1)"
   ]
  },
  {
   "cell_type": "code",
   "execution_count": 58,
   "metadata": {},
   "outputs": [],
   "source": [
    "# Convert the output data from the google sheet to a pandas dataframe\n",
    "def convert_to_dataframe(data):\n",
    "    \"\"\"\n",
    "    Convert data to a pandas dataframe\n",
    "    \"\"\"\n",
    "    try:\n",
    "        df = pd.DataFrame(data[1:], columns=data[0])\n",
    "        return df\n",
    "    except Exception as e:\n",
    "        logging.error(f\"Error converting data to dataframe: {e}\")\n",
    "        sys.exit(1)\n"
   ]
  },
  {
   "cell_type": "markdown",
   "metadata": {},
   "source": [
    "Now, you have a dataframe to work with"
   ]
  },
  {
   "cell_type": "markdown",
   "metadata": {},
   "source": [
    "# GradeSync Sheets Parsing"
   ]
  },
  {
   "cell_type": "code",
   "execution_count": 59,
   "metadata": {},
   "outputs": [],
   "source": [
    "import pandas as pd\n",
    "import numpy as np\n",
    "import os\n",
    "import sys\n",
    "import argparse\n",
    "import logging\n",
    "import json\n",
    "\n",
    "# Import google sheets API \n",
    "from googleapiclient.discovery import build\n",
    "from google.oauth2 import service_account\n",
    "from google.auth.transport.requests import Request\n",
    "from google.auth.exceptions import RefreshError"
   ]
  },
  {
   "cell_type": "markdown",
   "metadata": {},
   "source": [
    "Use the google sheets API to read and write data from a google sheet."
   ]
  },
  {
   "cell_type": "code",
   "execution_count": 60,
   "metadata": {},
   "outputs": [],
   "source": [
    "# Get the credentials from the .env file for google authentication\n",
    "def get_credentials():\n",
    "    \"\"\"\n",
    "    Get credentials from the .env file\n",
    "    \"\"\"\n",
    "    try:\n",
    "        creds = service_account.Credentials.from_service_account_file(\n",
    "            google_sheet_credentials,\n",
    "            scopes=['https://www.googleapis.com/auth/spreadsheets.readonly']\n",
    "        )\n",
    "        return creds\n",
    "    except Exception as e:\n",
    "        logging.error(f\"Error getting credentials: {e}\")\n",
    "        sys.exit(1)"
   ]
  },
  {
   "cell_type": "code",
   "execution_count": 61,
   "metadata": {},
   "outputs": [],
   "source": [
    "# https://docs.google.com/spreadsheets/d/1HGd-7No73YLCHGGB29SrxEJnZ_5SO5oMPY4842d4IAY/edit?gid=0#gid=0\n",
    "# This is the google sheet to use\n",
    "\n",
    "google_sheet_id = '1HGd-7No73YLCHGGB29SrxEJnZ_5SO5oMPY4842d4IAY'\n",
    "google_sheet_range = 'A1:Z1000'\n",
    "google_sheet_credentials = 'credentials.json'"
   ]
  },
  {
   "cell_type": "code",
   "execution_count": 62,
   "metadata": {},
   "outputs": [
    {
     "ename": "NameError",
     "evalue": "name '__file__' is not defined",
     "output_type": "error",
     "traceback": [
      "\u001b[31m---------------------------------------------------------------------------\u001b[39m",
      "\u001b[31mNameError\u001b[39m                                 Traceback (most recent call last)",
      "\u001b[36mCell\u001b[39m\u001b[36m \u001b[39m\u001b[32mIn[62]\u001b[39m\u001b[32m, line 2\u001b[39m\n\u001b[32m      1\u001b[39m \u001b[38;5;66;03m# Get the spreadsheet ID from the config folder\u001b[39;00m\n\u001b[32m----> \u001b[39m\u001b[32m2\u001b[39m config_folder = os.path.join(os.path.dirname(\u001b[34;43m__file__\u001b[39;49m), \u001b[33m'\u001b[39m\u001b[33mconfig\u001b[39m\u001b[33m'\u001b[39m)\n\u001b[32m      3\u001b[39m \u001b[38;5;28;01mif\u001b[39;00m \u001b[38;5;129;01mnot\u001b[39;00m os.path.exists(config_folder):\n\u001b[32m      4\u001b[39m     os.makedirs(config_folder)\n",
      "\u001b[31mNameError\u001b[39m: name '__file__' is not defined"
     ]
    }
   ],
   "source": [
    "# Get the spreadsheet ID from the config folder\n",
    "config_folder = os.path.join(os.path.dirname(__file__), 'config')\n",
    "if not os.path.exists(config_folder):\n",
    "    os.makedirs(config_folder)\n",
    "credentials_path = os.path.join(config_folder, google_sheet_credentials)\n",
    "if not os.path.exists(credentials_path):\n",
    "    logging.error(f\"Credentials file not found: {credentials_path}\")\n",
    "    sys.exit(1)"
   ]
  },
  {
   "cell_type": "code",
   "execution_count": 63,
   "metadata": {},
   "outputs": [],
   "source": [
    "# Use the google sheets API \n",
    "# to read and write data from a google sheet\n",
    "\n",
    "# Take the input ID from the google sheets\n",
    "def get_google_sheet(sheet_id, range_name, credentials):\n",
    "    \"\"\"\n",
    "    Get data from a google sheet\n",
    "    \"\"\"\n",
    "    try:\n",
    "        service = build('sheets', 'v4', credentials=credentials)\n",
    "        sheet = service.spreadsheets()\n",
    "        result = sheet.values().get(spreadsheetId=sheet_id, range=range_name).execute()\n",
    "        values = result.get('values', [])\n",
    "        return values\n",
    "    except Exception as e:\n",
    "        logging.error(f\"Error getting data from google sheet: {e}\")\n",
    "        sys.exit(1)"
   ]
  },
  {
   "cell_type": "markdown",
   "metadata": {},
   "source": [
    "# Test Rian's Code"
   ]
  },
  {
   "cell_type": "code",
   "execution_count": 64,
   "metadata": {},
   "outputs": [],
   "source": [
    "import os\n",
    "\n",
    "def get_folder_path(folder_name):\n",
    "    \"\"\"\n",
    "    Get the path to the folder in the current working directory.\n",
    "    If the folder doesn't exist, create it.\n",
    "    \"\"\"\n",
    "    output_folder = os.path.join(os.getcwd(), folder_name)\n",
    "    \n",
    "    if not os.path.exists(output_folder):\n",
    "        os.makedirs(output_folder)\n",
    "        print(f\"Created output folder at: {output_folder}\")  # Optional for feedback\n",
    "    \n",
    "    return output_folder"
   ]
  },
  {
   "cell_type": "code",
   "execution_count": 65,
   "metadata": {},
   "outputs": [
    {
     "name": "stdout",
     "output_type": "stream",
     "text": [
      "Created output folder at: /Users/indra/remind-main/gradesync_input/output\n"
     ]
    },
    {
     "data": {
      "text/plain": [
       "'/Users/indra/remind-main/gradesync_input/output'"
      ]
     },
     "execution_count": 65,
     "metadata": {},
     "output_type": "execute_result"
    }
   ],
   "source": [
    "get_folder_path('output')"
   ]
  },
  {
   "cell_type": "code",
   "execution_count": 66,
   "metadata": {},
   "outputs": [
    {
     "name": "stderr",
     "output_type": "stream",
     "text": [
      "ERROR:root:Credentials file not found: /Users/indra/remind-main/gradesync_input/config/credentials.json\n"
     ]
    },
    {
     "ename": "SystemExit",
     "evalue": "1",
     "output_type": "error",
     "traceback": [
      "An exception has occurred, use %tb to see the full traceback.\n",
      "\u001b[31mSystemExit\u001b[39m\u001b[31m:\u001b[39m 1\n"
     ]
    }
   ],
   "source": [
    "import pandas as pd\n",
    "import numpy as np\n",
    "import os\n",
    "import sys\n",
    "import argparse\n",
    "import logging\n",
    "import json\n",
    "\n",
    "# Create an output folder if it doesn't exist\n",
    "# output_folder = os.path.join(os.path.dirname(__file__), 'output')\n",
    "# if not os.path.exists(output_folder):\n",
    "#     os.makedirs(output_folder)\n",
    "\n",
    "# Google Sheets API\n",
    "from googleapiclient.discovery import build\n",
    "from google.oauth2 import service_account\n",
    "from google.auth.transport.requests import Request\n",
    "from google.auth.exceptions import RefreshError\n",
    "\n",
    "# Sheet & credentials config\n",
    "class_json_name = 'cs10_sp25_test.json'\n",
    "# config_path = os.path.join(os.path.dirname(__file__), 'config/', class_json_name)\n",
    "# with open(config_path, \"r\") as config_file:\n",
    "#     config = json.load(config_file)\n",
    "config_folder = get_folder_path('config')\n",
    "# Get the config file itself\n",
    "config_path = os.path.join(config_folder, class_json_name)\n",
    "if not os.path.exists(config_path):\n",
    "    logging.error(f\"Config file not found: {config_path}\")\n",
    "    sys.exit(1)\n",
    "with open(config_path, \"r\") as config_file:\n",
    "    config = json.load(config_file)\n",
    "\n",
    "# IDs to link files\n",
    "SCOPES = config[\"SCOPES\"]\n",
    "SPREADSHEET_ID = config[\"SPREADSHEET_ID\"]\n",
    "\n",
    "google_sheet_credentials = 'credentials.json'\n",
    "credentials_path = os.path.join(config_folder, google_sheet_credentials)\n",
    "\n",
    "if not os.path.exists(credentials_path):\n",
    "    logging.error(f\"Credentials file not found: {credentials_path}\")\n",
    "    sys.exit(1)\n",
    "\n",
    "def get_credentials():\n",
    "    try:\n",
    "        creds = service_account.Credentials.from_service_account_file(\n",
    "            credentials_path,\n",
    "            scopes=['https://www.googleapis.com/auth/spreadsheets.readonly']\n",
    "        )\n",
    "        return creds\n",
    "    except Exception as e:\n",
    "        logging.error(f\"Error getting credentials: {e}\")\n",
    "        sys.exit(1)\n",
    "\n",
    "def get_all_tab_names(sheet_id, credentials):\n",
    "    try:\n",
    "        service = build('sheets', 'v4', credentials=credentials)\n",
    "        spreadsheet = service.spreadsheets().get(spreadsheetId=sheet_id).execute()\n",
    "        sheet_metadata = spreadsheet.get('sheets', [])\n",
    "        tab_names = [sheet['properties']['title'] for sheet in sheet_metadata]\n",
    "        return tab_names\n",
    "    except Exception as e:\n",
    "        logging.error(f\"Error fetching tab names: {e}\")\n",
    "        sys.exit(1)\n",
    "\n",
    "def get_google_sheet_data(sheet_id, range_name, credentials):\n",
    "    try:\n",
    "        service = build('sheets', 'v4', credentials=credentials)\n",
    "        sheet = service.spreadsheets()\n",
    "        result = sheet.values().get(spreadsheetId=sheet_id, range=range_name).execute()\n",
    "        return result.get('values', [])\n",
    "    except Exception as e:\n",
    "        logging.error(f\"Error getting data from Google Sheet: {e}\")\n",
    "        sys.exit(1)\n",
    "\n",
    "def convert_to_dataframe(data):\n",
    "    \"\"\"\n",
    "    Convert raw sheet data to a cleaned DataFrame, padding short rows\n",
    "    \"\"\"\n",
    "    try:\n",
    "        headers = data[0]\n",
    "        rows = data[1:]\n",
    "\n",
    "        # Pad shorter rows with empty strings to match header length\n",
    "        padded_rows = [row + [''] * (len(headers) - len(row)) for row in rows]\n",
    "\n",
    "        df = pd.DataFrame(padded_rows, columns=headers)\n",
    "        return df\n",
    "    except Exception as e:\n",
    "        logging.error(f\"Error converting data to DataFrame: {e}\")\n",
    "        sys.exit(1)\n",
    "\n",
    "\n",
    "def clean_dataframe(df):\n",
    "    if 'SID' in df.columns:\n",
    "        df = df[df['SID'].notna()]\n",
    "        df = df[~df['SID'].astype(str).str.contains(\"#N/A|UID\", na=False)]\n",
    "    df.columns = df.columns.str.strip()\n",
    "    for col in df.columns[3:]:\n",
    "        df[col] = pd.to_numeric(df[col], errors='coerce')\n",
    "    df.dropna(how='all', inplace=True)\n",
    "    df.reset_index(drop=True, inplace=True)\n",
    "    return df\n",
    "\n",
    "import re\n",
    "def sanitize_filename(name):\n",
    "    \"\"\"\n",
    "    Replace or remove characters that can't be used in filenames\n",
    "    \"\"\"\n",
    "    # Replace anything not alphanumeric, space, underscore or dash\n",
    "    name = re.sub(r'[^\\w\\s-]', '', name)\n",
    "    return name.strip().replace(' ', '_')\n",
    "\n",
    "\n",
    "if __name__ == \"__main__\":\n",
    "    creds = get_credentials()\n",
    "    tab_names = get_all_tab_names(SPREADSHEET_ID, creds)\n",
    "\n",
    "    for tab in tab_names:\n",
    "        print(f\"\\n📄 Parsing tab: {tab}\")\n",
    "        range_str = f\"{tab}!A1:Z1000\"\n",
    "        raw_data = get_google_sheet_data(SPREADSHEET_ID, range_str, creds)\n",
    "\n",
    "        if not raw_data or len(raw_data) < 2:\n",
    "            print(f\"⚠️ Skipping {tab} (no data)\")\n",
    "            continue\n",
    "\n",
    "        df = convert_to_dataframe(raw_data)\n",
    "        df = clean_dataframe(df)\n",
    "\n",
    "        print(df.head())  # Preview the cleaned data\n",
    "        output_filename = f\"{sanitize_filename(tab)}.csv\"\n",
    "        output_path = os.path.join(output_folder, output_filename)\n",
    "        df.to_csv(output_path, index=False)\n",
    "        print(f\"✅ Saved {output_path}\")\n",
    "        print(f\"✅ Saved {tab}.csv\")"
   ]
  },
  {
   "cell_type": "code",
   "execution_count": null,
   "metadata": {},
   "outputs": [],
   "source": [
    "\n"
   ]
  },
  {
   "cell_type": "code",
   "execution_count": null,
   "metadata": {},
   "outputs": [],
   "source": []
  }
 ],
 "metadata": {
  "kernelspec": {
   "display_name": "base",
   "language": "python",
   "name": "python3"
  },
  "language_info": {
   "codemirror_mode": {
    "name": "ipython",
    "version": 3
   },
   "file_extension": ".py",
   "mimetype": "text/x-python",
   "name": "python",
   "nbconvert_exporter": "python",
   "pygments_lexer": "ipython3",
   "version": "3.8.19"
  }
 },
 "nbformat": 4,
 "nbformat_minor": 2
}

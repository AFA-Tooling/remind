{
 "cells": [
  {
   "cell_type": "markdown",
   "id": "4008fb41",
   "metadata": {},
   "source": [
    "# Message Requests to Email"
   ]
  },
  {
   "cell_type": "code",
   "execution_count": 24,
   "id": "2b682046",
   "metadata": {},
   "outputs": [],
   "source": [
    "import pandas as pd\n",
    "import numpy as np\n",
    "import os\n",
    "import sys\n",
    "import argparse\n",
    "import logging\n",
    "import json\n",
    "import re\n",
    "import base64\n",
    "import pandas as pd\n",
    "\n",
    "# Email\n",
    "from email.mime.text import MIMEText\n",
    "\n",
    "# Google Sheets API\n",
    "from googleapiclient.discovery import build\n",
    "from google.oauth2 import service_account\n",
    "from google.auth.transport.requests import Request\n",
    "from google.auth.exceptions import RefreshError"
   ]
  },
  {
   "cell_type": "markdown",
   "id": "48f111e2",
   "metadata": {},
   "source": [
    "Note from Manan: reference this chatgpt log for reference:\n",
    "https://chatgpt.com/share/680ac284-24c8-8007-9707-b53951623755\n",
    "\n",
    "Next steps:\n",
    "1. Link the google service account correctly to the email service account\n",
    "2. Connect one row of the data with a created message and one message request\n",
    "3. Send one test email to one of the team members\n",
    "4. Verify the test email works, then generalize it to work for all team members\n",
    "5. Then generalize the code to loop through multiple files and send out these emails in an iterative manner"
   ]
  },
  {
   "cell_type": "code",
   "execution_count": 15,
   "id": "c2dd1855",
   "metadata": {},
   "outputs": [
    {
     "name": "stdout",
     "output_type": "stream",
     "text": [
      "Credentials path found: /Users/mananbhargava/Documents/Workspaces/dan-cs-ed/remind/email/config/credentials.json\n"
     ]
    }
   ],
   "source": [
    "import os\n",
    "\n",
    "# Assuming your credentials are in a folder named 'config' in the current working directory\n",
    "config_folder = os.path.join(os.getcwd(), 'config')\n",
    "credentials_path = os.path.join(config_folder, 'credentials.json')\n",
    "\n",
    "if not os.path.exists(credentials_path):\n",
    "    print(f\"Credentials file not found: {credentials_path}\")\n",
    "else:\n",
    "    print(f\"Credentials path found: {credentials_path}\")"
   ]
  },
  {
   "cell_type": "code",
   "execution_count": 23,
   "id": "d8eb6471",
   "metadata": {},
   "outputs": [],
   "source": [
    "# CHECK THIS CODE\n",
    "\n",
    "# Path to your service account key\n",
    "SERVICE_ACCOUNT_FILE = credentials_path\n",
    "\n",
    "# The email of the Workspace account you're sending from\n",
    "SENDER = 'your-admin-email@yourdomain.edu'\n",
    "\n",
    "# Gmail API scope\n",
    "SCOPES = ['https://www.googleapis.com/auth/gmail.send']\n",
    "\n",
    "# Authenticate using service account with domain-wide delegation\n",
    "credentials = service_account.Credentials.from_service_account_file(\n",
    "    SERVICE_ACCOUNT_FILE,\n",
    "    scopes=SCOPES\n",
    ")\n",
    "\n",
    "# Delegate to the actual user\n",
    "delegated_credentials = credentials.with_subject(SENDER)\n",
    "\n",
    "# Build the service\n",
    "service = build('gmail', 'v1', credentials=delegated_credentials)"
   ]
  },
  {
   "cell_type": "code",
   "execution_count": 18,
   "id": "96628bf7",
   "metadata": {},
   "outputs": [
    {
     "data": {
      "text/html": [
       "<div>\n",
       "<style scoped>\n",
       "    .dataframe tbody tr th:only-of-type {\n",
       "        vertical-align: middle;\n",
       "    }\n",
       "\n",
       "    .dataframe tbody tr th {\n",
       "        vertical-align: top;\n",
       "    }\n",
       "\n",
       "    .dataframe thead th {\n",
       "        text-align: right;\n",
       "    }\n",
       "</style>\n",
       "<table border=\"1\" class=\"dataframe\">\n",
       "  <thead>\n",
       "    <tr style=\"text-align: right;\">\n",
       "      <th></th>\n",
       "      <th>first name</th>\n",
       "      <th>last name</th>\n",
       "      <th>sid</th>\n",
       "      <th>email</th>\n",
       "      <th>assignment</th>\n",
       "      <th>message_requests</th>\n",
       "    </tr>\n",
       "  </thead>\n",
       "  <tbody>\n",
       "    <tr>\n",
       "      <th>0</th>\n",
       "      <td>Oindree</td>\n",
       "      <td>Chatterjee</td>\n",
       "      <td>3030000000</td>\n",
       "      <td>oindree@berkeley.edu</td>\n",
       "      <td>Project 3: 2048</td>\n",
       "      <td>Dear Oindree, your Project 3: 2048 assignment ...</td>\n",
       "    </tr>\n",
       "    <tr>\n",
       "      <th>1</th>\n",
       "      <td>Sarvagya</td>\n",
       "      <td>Goyal</td>\n",
       "      <td>3030000000</td>\n",
       "      <td>sgoyal123@berkeley.edu</td>\n",
       "      <td>Project 3: 2048</td>\n",
       "      <td>Dear Sarvagya, your Project 3: 2048 assignment...</td>\n",
       "    </tr>\n",
       "    <tr>\n",
       "      <th>2</th>\n",
       "      <td>Rian</td>\n",
       "      <td>Puri</td>\n",
       "      <td>3030000000</td>\n",
       "      <td>rian.puri@berkeley.edu</td>\n",
       "      <td>Project 3: 2048</td>\n",
       "      <td>Dear Rian, your Project 3: 2048 assignment is ...</td>\n",
       "    </tr>\n",
       "    <tr>\n",
       "      <th>3</th>\n",
       "      <td>Ankita</td>\n",
       "      <td>Sundar</td>\n",
       "      <td>3030000000</td>\n",
       "      <td>ankitasun@berkeley.edu</td>\n",
       "      <td>Project 3: 2048</td>\n",
       "      <td>Dear Ankita, your Project 3: 2048 assignment i...</td>\n",
       "    </tr>\n",
       "  </tbody>\n",
       "</table>\n",
       "</div>"
      ],
      "text/plain": [
       "  first name   last name         sid                   email       assignment  \\\n",
       "0    Oindree  Chatterjee  3030000000    oindree@berkeley.edu  Project 3: 2048   \n",
       "1   Sarvagya       Goyal  3030000000  sgoyal123@berkeley.edu  Project 3: 2048   \n",
       "2       Rian        Puri  3030000000  rian.puri@berkeley.edu  Project 3: 2048   \n",
       "3     Ankita      Sundar  3030000000  ankitasun@berkeley.edu  Project 3: 2048   \n",
       "\n",
       "                                    message_requests  \n",
       "0  Dear Oindree, your Project 3: 2048 assignment ...  \n",
       "1  Dear Sarvagya, your Project 3: 2048 assignment...  \n",
       "2  Dear Rian, your Project 3: 2048 assignment is ...  \n",
       "3  Dear Ankita, your Project 3: 2048 assignment i...  "
      ]
     },
     "execution_count": 18,
     "metadata": {},
     "output_type": "execute_result"
    }
   ],
   "source": [
    "# Read one message_request file from the email\n",
    "\n",
    "df = pd.read_csv('message_requests/message_requests_Project 3: 2048.csv')\n",
    "df"
   ]
  },
  {
   "cell_type": "markdown",
   "id": "720292e9",
   "metadata": {},
   "source": [
    "Steps:\n",
    "1. Iterate through each row of the message requests dataframe\n",
    "2. Select the value from the email column, value from the message_requests column\n",
    "3. Send the email in the google email api"
   ]
  },
  {
   "cell_type": "code",
   "execution_count": null,
   "id": "235cacb2",
   "metadata": {},
   "outputs": [],
   "source": [
    "def create_message(sender, to, subject, message_text):\n",
    "    \"\"\"Create a message for an email.\"\"\"\n",
    "    message = MIMEText(message_text)\n",
    "    message['to'] = to\n",
    "    message['from'] = sender\n",
    "    message['subject'] = subject\n",
    "    return {'raw': base64.urlsafe_b64encode(message.as_bytes()).decode()}"
   ]
  },
  {
   "cell_type": "code",
   "execution_count": 20,
   "id": "49d7285e",
   "metadata": {},
   "outputs": [],
   "source": [
    "def send_message(service, sender, message):\n",
    "    \"\"\"Send an email message.\"\"\"\n",
    "    try:\n",
    "        sent_message = service.users().messages().send(userId=sender, body=message).execute()\n",
    "        print(f'Message Id: {sent_message[\"id\"]}')\n",
    "    except Exception as error:\n",
    "        print(f'An error occurred: {error}')"
   ]
  },
  {
   "cell_type": "code",
   "execution_count": 19,
   "id": "0d0767fb",
   "metadata": {},
   "outputs": [
    {
     "name": "stdout",
     "output_type": "stream",
     "text": [
      "Email: oindree@berkeley.edu\n",
      "Message: Dear Oindree, your Project 3: 2048 assignment is missing and it is due in 5 days 00:00:00. Please submit it as soon as possible.\n",
      "Name: Oindree\n",
      "Email: sgoyal123@berkeley.edu\n",
      "Message: Dear Sarvagya, your Project 3: 2048 assignment is missing and it is due in 5 days 00:00:00. Please submit it as soon as possible.\n",
      "Name: Sarvagya\n",
      "Email: rian.puri@berkeley.edu\n",
      "Message: Dear Rian, your Project 3: 2048 assignment is missing and it is due in 5 days 00:00:00. Please submit it as soon as possible.\n",
      "Name: Rian\n",
      "Email: ankitasun@berkeley.edu\n",
      "Message: Dear Ankita, your Project 3: 2048 assignment is missing and it is due in 5 days 00:00:00. Please submit it as soon as possible.\n",
      "Name: Ankita\n"
     ]
    }
   ],
   "source": [
    "# Loop through each row of the message requests dataframe\n",
    "# Incorporate the send message into this\n",
    "\n",
    "for index, row in df.iterrows():\n",
    "    # Extract the email address from the row\n",
    "    email = row['email']\n",
    "    # Extract the message from the row\n",
    "    message = row['message_requests']\n",
    "    # Extract the name from the row\n",
    "    name = row['first name']\n",
    "    # Extract the assignment name for the subject line title\n",
    "    assignment_name = row['assignment']\n",
    "    \n",
    "    # Print the extracted information\n",
    "    print(f\"Email: {email}\")\n",
    "    print(f\"Message: {message}\")\n",
    "    print(f\"Name: {name}\")"
   ]
  }
 ],
 "metadata": {
  "kernelspec": {
   "display_name": "base",
   "language": "python",
   "name": "python3"
  },
  "language_info": {
   "codemirror_mode": {
    "name": "ipython",
    "version": 3
   },
   "file_extension": ".py",
   "mimetype": "text/x-python",
   "name": "python",
   "nbconvert_exporter": "python",
   "pygments_lexer": "ipython3",
   "version": "3.8.20"
  }
 },
 "nbformat": 4,
 "nbformat_minor": 5
}

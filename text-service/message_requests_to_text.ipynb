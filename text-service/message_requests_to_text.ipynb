{
 "cells": [
  {
   "cell_type": "code",
   "execution_count": 5,
   "id": "27c31100",
   "metadata": {},
   "outputs": [],
   "source": [
    "# %%\n",
    "# Imports\n",
    "import firebase_admin\n",
    "from firebase_admin import credentials, messaging\n",
    "import pandas as pd\n",
    "import os\n"
   ]
  },
  {
   "cell_type": "code",
   "execution_count": 6,
   "id": "e5f0d1dd",
   "metadata": {},
   "outputs": [
    {
     "name": "stdout",
     "output_type": "stream",
     "text": [
      "Firebase initialized!\n"
     ]
    }
   ],
   "source": [
    "# %%\n",
    "# Initialize Firebase Admin\n",
    "config_folder = os.path.join(os.getcwd(), 'config')\n",
    "credentials_path = os.path.join(config_folder, 'credentials.json')\n",
    "\n",
    "if not firebase_admin._apps:\n",
    "    cred = credentials.Certificate(credentials_path)\n",
    "    firebase_admin.initialize_app(cred)\n",
    "\n",
    "print(\"Firebase initialized!\")"
   ]
  },
  {
   "cell_type": "code",
   "execution_count": 7,
   "id": "976262e6",
   "metadata": {},
   "outputs": [],
   "source": [
    "message_request_files = [\n",
    "    'message_requests/Project1_Wordlexe2x84xa2-lite.csv',\n",
    "    'message_requests/Project2_Spelling Bee.csv',\n",
    "    'message_requests/Project3_2048.csv'\n",
    "]"
   ]
  },
  {
   "cell_type": "code",
   "execution_count": 8,
   "id": "e5d78901",
   "metadata": {},
   "outputs": [
    {
     "name": "stdout",
     "output_type": "stream",
     "text": [
      "\n",
      "Processing file: message_requests/Project1_Wordlexe2x84xa2-lite.csv\n",
      "Preparing to send to (408) 569-5838\n",
      "Message for Oindree (Project 1: Wordlexe2x84xa2-lite): Dear Oindree, your Project 1: Wordlexe2x84xa2-lite assignment is missing and it is due in 5 days 00:00:00. Please submit it as soon as possible.\n",
      "[Mock] Sent message to (408) 569-5838 successfully!\n",
      "\n",
      "Preparing to send to (925) 314-6705\n",
      "Message for Sarvagya (Project 1: Wordlexe2x84xa2-lite): Dear Sarvagya, your Project 1: Wordlexe2x84xa2-lite assignment is missing and it is due in 5 days 00:00:00. Please submit it as soon as possible.\n",
      "[Mock] Sent message to (925) 314-6705 successfully!\n",
      "\n",
      "Preparing to send to (650) 229-9266\n",
      "Message for Rian (Project 1: Wordlexe2x84xa2-lite): Dear Rian, your Project 1: Wordlexe2x84xa2-lite assignment is missing and it is due in 5 days 00:00:00. Please submit it as soon as possible.\n",
      "[Mock] Sent message to (650) 229-9266 successfully!\n",
      "\n",
      "Preparing to send to (650) 229-9266\n",
      "Message for Ankita (Project 1: Wordlexe2x84xa2-lite): Dear Ankita, your Project 1: Wordlexe2x84xa2-lite assignment is missing and it is due in 5 days 00:00:00. Please submit it as soon as possible.\n",
      "[Mock] Sent message to (650) 229-9266 successfully!\n",
      "\n",
      "\n",
      "Processing file: message_requests/Project2_Spelling Bee.csv\n",
      "Preparing to send to (408) 569-5838\n",
      "Message for Oindree (Project 2: Spelling Bee): Dear Oindree, your Project 2: Spelling Bee assignment is missing and it is due in 5 days 00:00:00. Please submit it as soon as possible.\n",
      "[Mock] Sent message to (408) 569-5838 successfully!\n",
      "\n",
      "Preparing to send to (925) 314-6705\n",
      "Message for Sarvagya (Project 2: Spelling Bee): Dear Sarvagya, your Project 2: Spelling Bee assignment is missing and it is due in 5 days 00:00:00. Please submit it as soon as possible.\n",
      "[Mock] Sent message to (925) 314-6705 successfully!\n",
      "\n",
      "Preparing to send to (650) 229-9266\n",
      "Message for Rian (Project 2: Spelling Bee): Dear Rian, your Project 2: Spelling Bee assignment is missing and it is due in 5 days 00:00:00. Please submit it as soon as possible.\n",
      "[Mock] Sent message to (650) 229-9266 successfully!\n",
      "\n",
      "Preparing to send to (650) 229-9266\n",
      "Message for Ankita (Project 2: Spelling Bee): Dear Ankita, your Project 2: Spelling Bee assignment is missing and it is due in 5 days 00:00:00. Please submit it as soon as possible.\n",
      "[Mock] Sent message to (650) 229-9266 successfully!\n",
      "\n",
      "\n",
      "Processing file: message_requests/Project3_2048.csv\n",
      "Preparing to send to (408) 569-5838\n",
      "Message for Oindree (Project 3: 2048): Dear Oindree, your Project 3: 2048 assignment is missing and it is due in 5 days 00:00:00. Please submit it as soon as possible.\n",
      "[Mock] Sent message to (408) 569-5838 successfully!\n",
      "\n",
      "Preparing to send to (650) 229-9266\n",
      "Message for Sarvagya (Project 3: 2048): Dear Sarvagya, your Project 3: 2048 assignment is missing and it is due in 5 days 00:00:00. Please submit it as soon as possible.\n",
      "[Mock] Sent message to (650) 229-9266 successfully!\n",
      "\n",
      "Preparing to send to (925) 314-6705\n",
      "Message for Rian (Project 3: 2048): Dear Rian, your Project 3: 2048 assignment is missing and it is due in 5 days 00:00:00. Please submit it as soon as possible.\n",
      "[Mock] Sent message to (925) 314-6705 successfully!\n",
      "\n",
      "Preparing to send to (650) 229-9266\n",
      "Message for Ankita (Project 3: 2048): Dear Ankita, your Project 3: 2048 assignment is missing and it is due in 5 days 00:00:00. Please submit it as soon as possible.\n",
      "[Mock] Sent message to (650) 229-9266 successfully!\n",
      "\n",
      "\n",
      "All files processed!\n"
     ]
    }
   ],
   "source": [
    "for file_path in message_request_files:\n",
    "    print(f\"\\nProcessing file: {file_path}\")\n",
    "    \n",
    "    df = pd.read_csv(file_path)\n",
    "\n",
    "    # Loop through each row in the file\n",
    "    for index, row in df.iterrows():\n",
    "        phone_number = row['phone_num']\n",
    "        message_text = row['message_requests']\n",
    "        name = row['first name']\n",
    "        assignment_name = row['assignment']\n",
    "\n",
    "        print(f\"Preparing to send to {phone_number}\")\n",
    "        print(f\"Message for {name} ({assignment_name}): {message_text}\")\n",
    "\n",
    "        # MOCK sending (since no real device token or SMS API yet)\n",
    "        print(f\"[Mock] Sent message to {phone_number} successfully!\\n\")\n",
    "\n",
    "print(\"\\nAll files processed!\")\n"
   ]
  },
  {
   "cell_type": "code",
   "execution_count": null,
   "id": "0b4bc567",
   "metadata": {},
   "outputs": [],
   "source": []
  },
  {
   "cell_type": "code",
   "execution_count": null,
   "id": "88c89d5c",
   "metadata": {},
   "outputs": [],
   "source": []
  }
 ],
 "metadata": {
  "kernelspec": {
   "display_name": "base",
   "language": "python",
   "name": "python3"
  },
  "language_info": {
   "codemirror_mode": {
    "name": "ipython",
    "version": 3
   },
   "file_extension": ".py",
   "mimetype": "text/x-python",
   "name": "python",
   "nbconvert_exporter": "python",
   "pygments_lexer": "ipython3",
   "version": "3.12.4"
  }
 },
 "nbformat": 4,
 "nbformat_minor": 5
}
